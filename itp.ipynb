{
 "cells": [
  {
   "cell_type": "markdown",
   "metadata": {},
   "source": [
    "**Step-1: Install the packages**"
   ]
  },
  {
   "cell_type": "code",
   "execution_count": null,
   "metadata": {},
   "outputs": [],
   "source": [
    "! pip install crewai\n",
    "! pip install crewai-tools"
   ]
  },
  {
   "cell_type": "markdown",
   "metadata": {},
   "source": [
    "**Step-2: Import the required packages**"
   ]
  },
  {
   "cell_type": "code",
   "execution_count": null,
   "metadata": {},
   "outputs": [],
   "source": [
    "import os\n",
    "from crewai import Agent, Task, Crew, Process, LLM  #crew Ai packages\n",
    "from crewai_tools import SerperDevTool  # serper tool"
   ]
  },
  {
   "cell_type": "markdown",
   "metadata": {},
   "source": [
    "**Step-3: Access the keys**"
   ]
  },
  {
   "cell_type": "code",
   "execution_count": null,
   "metadata": {},
   "outputs": [],
   "source": [
    "import os\n",
    "from dotenv import load_dotenv\n",
    "\n",
    "# Load environment variables from .env file\n",
    "load_dotenv()\n",
    "\n",
    "# Get API keys\n",
    "gemini_key = os.getenv(\"GEMINI_KEY\")\n",
    "serper_key = os.getenv(\"SERPER_KEY\")\n",
    "\n",
    "# Set them as environment variables\n",
    "os.environ[\"GOOGLE_API_KEY\"] = gemini_key\n",
    "os.environ[\"SERPER_API_KEY\"] = serper_key\n",
    "\n",
    "# Optional: Print to check if keys are loaded correctly (Avoid printing sensitive info in public)\n",
    "# print(gemini_key)\n",
    "# print(serper_key)\n"
   ]
  },
  {
   "cell_type": "markdown",
   "metadata": {},
   "source": [
    "**Step-4:Access the LLM and Tool**"
   ]
  },
  {
   "cell_type": "code",
   "execution_count": null,
   "metadata": {},
   "outputs": [],
   "source": [
    "# Initialize a search tool (to fetch real-time travel info)\n",
    "search_tool = SerperDevTool()\n",
    "\n",
    "# Define the AI Model\n",
    "llm = LLM(model=\"gemini/gemini-1.5-flash\",\n",
    "          verbose=True, # I want to see the statements\n",
    "          temperature=0.5, # thinking power\n",
    "          api_key=os.environ[\"GOOGLE_API_KEY\"])"
   ]
  },
  {
   "cell_type": "markdown",
   "metadata": {},
   "source": [
    "**Step-5: Intialize the agents**"
   ]
  },
  {
   "cell_type": "code",
   "execution_count": null,
   "metadata": {},
   "outputs": [],
   "source": [
    "# 🧭 Travel Researcher Agent (Finds historical sites + weather)\n",
    "researcher = Agent(\n",
    "    role=\"Travel Researcher\",\n",
    "    goal=\"Find most popular sites, public transport hotels, and real-time weather for {destination}.\",\n",
    "    verbose=True, # when I run the code I want to see the statements\n",
    "    memory=True, # store\n",
    "    backstory=\"You are an expert travel researcher, providing up-to-date information about history-focused trips.\",\n",
    "    llm=llm,\n",
    "    tools=[search_tool],  # Uses live search tool\n",
    "    allow_delegation=True # transfer the task to the next agent\n",
    ")\n",
    "\n",
    "# 💰 Budget Planner Agent (Ensures trip stays under $1500)\n",
    "budget_planner = Agent(\n",
    "    role=\"Budget Planner\",\n",
    "    goal=\"Find budget flights, hotels, and activities within {budget} for {destination}.\",\n",
    "    verbose=True,\n",
    "    memory=True,\n",
    "    backstory=\"You are a skilled budget analyst ensuring trips fit within financial constraints.\",\n",
    "    llm=llm,\n",
    "    tools=[search_tool],\n",
    "    allow_delegation=True # transfer the task to the next agent\n",
    ")\n",
    "\n",
    "# 🗺️ Itinerary Planner Agent (Creates a balanced 3-day plan)\n",
    "itinerary_planner = Agent(\n",
    "    role=\"Itinerary Planner\",\n",
    "    goal=\"Create a 3-day itinerary for {destination}, ensuring all popular sites are covered under {budget}.\",\n",
    "    verbose=True,\n",
    "    memory=True,\n",
    "    backstory=\"You are an expert in trip planning, ensuring travelers get the best experience within their budget.\",\n",
    "    llm=llm,\n",
    "    tools=[search_tool],\n",
    "    allow_delegation=False # As there is no next agent no need to transfer the task\n",
    ")"
   ]
  },
  {
   "cell_type": "markdown",
   "metadata": {},
   "source": [
    "**Step-6: Agent tasks**"
   ]
  },
  {
   "cell_type": "code",
   "execution_count": null,
   "metadata": {},
   "outputs": [],
   "source": [
    "# 📝 Travel Research Task\n",
    "research_task = Task(\n",
    "    description=\"Find the best popular sites, weather forecast, and public transport hotels for {destination}.\",\n",
    "    expected_output=\"A list of top popular sites, a real-time weather update, and 3 hotel options near public transport.\",\n",
    "    tools=[search_tool],\n",
    "    agent=researcher\n",
    ")\n",
    "\n",
    "# 💲 Budget Estimation Task\n",
    "budget_task = Task(\n",
    "    description=\"Find budget flights, hotel options, and daily food/transport costs for {destination}. Ensure total cost stays under {budget}.\",\n",
    "    expected_output=\"A full cost breakdown (flights, hotel, food, attractions) ensuring a $1500 budget is maintained.\",\n",
    "    tools=[search_tool],\n",
    "    agent=budget_planner\n",
    ")\n",
    "\n",
    "# 📅 Itinerary Planning Task\n",
    "itinerary_task = Task(\n",
    "    description=\"Plan a 3-day itinerary for {destination}, focusing on popular sites, budget constraints, and real-time weather conditions.\",\n",
    "    expected_output=\"A detailed 3-day plan, considering weather and budget constraints, with transport recommendations.\",\n",
    "    tools=[search_tool],\n",
    "    agent=itinerary_planner\n",
    ")"
   ]
  },
  {
   "cell_type": "markdown",
   "metadata": {},
   "source": [
    "**Step-7: Kick off the work**"
   ]
  },
  {
   "cell_type": "code",
   "execution_count": null,
   "metadata": {},
   "outputs": [],
   "source": [
    "# 🚀 Crew Setup: All agents working together!\n",
    "crew = Crew(\n",
    "    agents=[researcher, budget_planner, itinerary_planner],\n",
    "    tasks=[research_task, budget_task, itinerary_task],\n",
    "    process=Process.sequential  # Runs tasks in sequence\n",
    ")\n",
    "\n",
    "# 🔥 Run the CrewAI Trip Advisor system for Meghalaya with a 15000 budget\n",
    "result = crew.kickoff(inputs={'destination': 'Meghalaya from balasore,odisha', 'budget': '15000 INR'})\n",
    "print(result)"
   ]
  }
 ],
 "metadata": {
  "kernelspec": {
   "display_name": "venv",
   "language": "python",
   "name": "python3"
  },
  "language_info": {
   "codemirror_mode": {
    "name": "ipython",
    "version": 3
   },
   "file_extension": ".py",
   "mimetype": "text/x-python",
   "name": "python",
   "nbconvert_exporter": "python",
   "pygments_lexer": "ipython3",
   "version": "3.12.3"
  }
 },
 "nbformat": 4,
 "nbformat_minor": 2
}
